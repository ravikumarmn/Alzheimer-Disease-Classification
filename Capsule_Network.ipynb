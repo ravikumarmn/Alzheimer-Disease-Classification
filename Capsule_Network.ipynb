{
 "cells": [
  {
   "cell_type": "code",
   "execution_count": 165,
   "metadata": {},
   "outputs": [],
   "source": [
    "import torch\n",
    "from torchvision import datasets, transforms\n",
    "from torch.utils.data import DataLoader, random_split\n",
    "import os\n",
    "\n",
    "# transform = transforms.Compose([\n",
    "#     transforms.Resize((224, 224)),  # Resize images to a fixed size\n",
    "#     transforms.ToTensor(),  # Convert images to PyTorch tensors\n",
    "#     transforms.Normalize(mean=[0.485, 0.456, 0.406], std=[0.229, 0.224, 0.225]),  # Normalize with ImageNet stats\n",
    "# ])\n",
    "\n",
    "transform = transforms.Compose([\n",
    "    transforms.Resize((28, 28)),  # Resize images to a fixed size\n",
    "    transforms.Grayscale(num_output_channels=1),  # Convert images to grayscale\n",
    "    transforms.ToTensor(),  # Convert images to PyTorch tensors\n",
    "    transforms.Normalize(mean=[0.5], std=[0.5]),  # Normalize for grayscale images\n",
    "])\n",
    "\n"
   ]
  },
  {
   "cell_type": "code",
   "execution_count": 166,
   "metadata": {},
   "outputs": [],
   "source": [
    "dataset_path = './dataset'\n",
    "\n",
    "# Load dataset\n",
    "full_dataset = datasets.ImageFolder(root=dataset_path, transform=transform)"
   ]
  },
  {
   "cell_type": "code",
   "execution_count": 167,
   "metadata": {},
   "outputs": [],
   "source": [
    "train_size = int(0.7 * len(full_dataset))\n",
    "test_size = len(full_dataset) - train_size\n",
    "\n",
    "train_dataset, test_dataset = random_split(full_dataset, [train_size, test_size])\n"
   ]
  },
  {
   "cell_type": "code",
   "execution_count": 168,
   "metadata": {},
   "outputs": [],
   "source": [
    "batch_size = 32  \n",
    "\n",
    "train_loader = DataLoader(train_dataset, batch_size=batch_size, shuffle=True)\n",
    "test_loader = DataLoader(test_dataset, batch_size=batch_size, shuffle=False)\n"
   ]
  },
  {
   "cell_type": "code",
   "execution_count": 169,
   "metadata": {},
   "outputs": [
    {
     "data": {
      "text/plain": [
       "(torch.Size([32, 1, 28, 28]), torch.Size([32]))"
      ]
     },
     "execution_count": 169,
     "metadata": {},
     "output_type": "execute_result"
    }
   ],
   "source": [
    "next(iter(train_loader))[0].shape,next(iter(train_loader))[1].shape"
   ]
  },
  {
   "cell_type": "markdown",
   "metadata": {},
   "source": [
    "CAPSULE NETWORK"
   ]
  },
  {
   "cell_type": "code",
   "execution_count": 141,
   "metadata": {},
   "outputs": [
    {
     "name": "stdout",
     "output_type": "stream",
     "text": [
      "Collecting torchsummary\n",
      "  Downloading torchsummary-1.5.1-py3-none-any.whl.metadata (296 bytes)\n",
      "Downloading torchsummary-1.5.1-py3-none-any.whl (2.8 kB)\n",
      "Installing collected packages: torchsummary\n",
      "Successfully installed torchsummary-1.5.1\n"
     ]
    },
    {
     "data": {
      "text/plain": [
       "<contextlib.ExitStack at 0x2985dca10>"
      ]
     },
     "execution_count": 141,
     "metadata": {},
     "output_type": "execute_result"
    }
   ],
   "source": [
    "import numpy as np\n",
    "import pandas as pd\n",
    "import torch.nn.functional as F\n",
    "import pdb\n",
    "from torch import nn\n",
    "import math\n",
    "from torch.optim import lr_scheduler\n",
    "# %matplotlib inline\n",
    "import matplotlib.pyplot as plt\n",
    "from sklearn import metrics\n",
    "import torch\n",
    "import itertools\n",
    "import seaborn as sns\n",
    "# sns.set(style=\"darkgrid\")\n",
    "from torch.autograd import Variable\n",
    "from torch.optim import Adam\n",
    "from torchvision.utils import make_grid\n",
    "from torchvision.datasets.mnist import MNIST\n",
    "from tqdm import tqdm\n",
    "from torchvision import models\n",
    "import torch.optim as optim\n",
    "import torchvision\n",
    "from matplotlib.ticker import MaxNLocator\n",
    "import torchvision.transforms as transforms\n",
    "from torch.autograd import Variable\n",
    "from torch import nn\n",
    "from torch.utils.data import Dataset, DataLoader\n",
    "import os\n",
    "from torch.nn import MaxPool2d\n",
    "!pip install torchsummary\n",
    "from torchsummary import summary\n",
    "# import chainer.links as L\n",
    "# from PIL import Image\n",
    "# from sklearn.model_selection import train_test_split\n",
    "# import warnings\n",
    "# warnings.filterwarnings(\"ignore\")\n",
    "plt.ion()"
   ]
  },
  {
   "cell_type": "code",
   "execution_count": 170,
   "metadata": {},
   "outputs": [],
   "source": [
    "class CapsuleLevel(nn.Module):\n",
    "    def __init__(self, in_channels, out_channels, capsule_dimension = 8, num_capsules = 10, num_capsule_units = 6 * 6 * 32, routing = False, iterations=3):\n",
    "        super(CapsuleLevel, self).__init__()\n",
    "        self.routing = routing\n",
    "        self.iterations = iterations\n",
    "        self.num_capsules = num_capsules\n",
    "        self.num_capsule_units = num_capsule_units\n",
    "        if routing == True:\n",
    "            self.route_weights = nn.Parameter(torch.randn(num_capsule_units, num_capsules, out_channels, in_channels))\n",
    "        else:\n",
    "            self.capsules = nn.ModuleList(\n",
    "                [nn.Conv2d(in_channels, out_channels, kernel_size=(9, 9), stride=(2, 2), padding=0) for _ in\n",
    "                 range(capsule_dimension)])\n",
    "\n",
    "            \n",
    "    # The squash function\n",
    "    def squash(self, s, dim=-1):\n",
    "        norm = torch.sum(s**2, dim=dim, keepdim=True)\n",
    "        return norm / (1 + norm) * s / (torch.sqrt(norm) + 1e-8)\n",
    "\n",
    "    def forward(self, x):\n",
    "        if self.routing == True:          # Routing by Agreement\n",
    "            batch_size = x.size(0)\n",
    "            \n",
    "            route_weights = torch.stack([self.route_weights] * batch_size, dim = 0) #dim:([1152, 10, 16, 8])\n",
    "            x = torch.stack([x] * self.num_capsules, dim=2).unsqueeze(4) #dim:([128, 1152, 10, 8, 1])\n",
    "            u_hat = torch.matmul(self.route_weights, x)  #dim:([128, 1152, 10, 16, 1])\n",
    "            u_hat = u_hat.squeeze(-1)   #dim([128, 1152, 10, 16])\n",
    "            temp_u_hat = u_hat.detach()\n",
    "            \n",
    "            #b_ij dim:([128, 1152, 10, 1])\n",
    "            b_ij = Variable(torch.zeros(batch_size, self.num_capsule_units, self.num_capsules, 1)) \n",
    "            for iteration in range(self.iterations):\n",
    "                c_ij = F.softmax(b_ij, dim=1)   # Equation 1 # c_ij dim:([128, 1152, 10, 1])\n",
    "                s_ij = (c_ij * temp_u_hat).sum(dim=1)  # Equation 2 # s_ij dim:([128, 10, 16])\n",
    "                temp_u_hat = temp_u_hat.unsqueeze(3)  # temp_u_hat dim:([128, 1152, 10, 16, 1])\n",
    "                v_j = self.squash(s_ij, dim=2) # Equation 3  # v_j dim:([128, 10, 16])\n",
    "                v_j_i = torch.stack([v_j] * self.num_capsule_units, dim = 1).unsqueeze(-1) # v_j_i dim:([128, 10, 16, 1])\n",
    "                v_j_i = torch.matmul(temp_u_hat, v_j_i).squeeze(3)  \n",
    "                temp_u_hat = temp_u_hat.squeeze(3)\n",
    "                b_ij = b_ij + v_j_i # Equation 4\n",
    "        else:\n",
    "            v_j = [capsule(x).view(x.size(0), -1, 1) for capsule in self.capsules]   \n",
    "            v_j = torch.cat(v_j, dim=-1)\n",
    "            v_j = self.squash(v_j)\n",
    "\n",
    "        return v_j"
   ]
  },
  {
   "cell_type": "code",
   "execution_count": 171,
   "metadata": {},
   "outputs": [],
   "source": [
    "class CapsuleNetwork(nn.Module):  \n",
    "    def __init__(self):\n",
    "        super(CapsuleNetwork, self).__init__()\n",
    "        self.batch_size = 32\n",
    "        self.conv1 = nn.Conv2d(in_channels=1, out_channels=256, kernel_size=(9, 9), stride=(1, 1), padding=0)\n",
    "        self.primaryCaps = CapsuleLevel(in_channels=256, out_channels=32, capsule_dimension=8)\n",
    "        self.digitCaps   = CapsuleLevel(in_channels=8, out_channels=16, num_capsules=10, routing=True)\n",
    "        self.decoder     = nn.Sequential(\n",
    "            nn.Linear(16 * 10, 512),\n",
    "            nn.ReLU(inplace=True),\n",
    "            nn.Linear(512, 1024),\n",
    "            nn.ReLU(inplace=True),\n",
    "            nn.Linear(1024, 784),\n",
    "            nn.Sigmoid()\n",
    "        )\n",
    "    def forward(self, x, y=None):\n",
    "        x = F.relu(self.conv1(x), inplace=True)\n",
    "        x = self.primaryCaps(x)\n",
    "        x = self.digitCaps(x)\n",
    "        classes = (x ** 2).sum(dim=-1) ** 0.5\n",
    "        classes = F.softmax(classes, dim=-1)\n",
    "        if y is None:\n",
    "            # Get most active capsule\n",
    "            _, max_length_indices = classes.max(dim=1)\n",
    "            y = Variable(torch.eye(10)).index_select(dim=0, index=Variable(max_length_indices.data))\n",
    "        reconstructions = self.decoder((x * y[:, :, None]).view(x.size(0), -1))\n",
    "        return classes, reconstructions"
   ]
  },
  {
   "cell_type": "code",
   "execution_count": 172,
   "metadata": {},
   "outputs": [],
   "source": [
    "class LossFunction(nn.Module):\n",
    "    def __init__(self):\n",
    "        super(LossFunction, self).__init__()\n",
    "        self.reconstruction_loss = nn.MSELoss(size_average=False)\n",
    "\n",
    "    def forward(self, img, target, classes, reconstructions):\n",
    "        fn_1 = F.relu(0.9 - classes, inplace=True) ** 2  # Calculated for correct digit cap\n",
    "        fn_2 = F.relu(classes - 0.1, inplace=True) ** 2  # Calculated for incorrect digit cap\n",
    "        margin_loss = target * fn_1 + 0.5 * (1. - target) * fn_2\n",
    "        margin_loss = margin_loss.sum()\n",
    "        img = img.view(reconstructions.size()[0], -1)\n",
    "        reconstruction_loss = self.reconstruction_loss(reconstructions, img)\n",
    "        return (margin_loss + 0.0005 * reconstruction_loss) / img.size(0)"
   ]
  },
  {
   "cell_type": "code",
   "execution_count": 173,
   "metadata": {},
   "outputs": [],
   "source": [
    "train_loss = []\n",
    "test_loss = []\n",
    "def train(train_loader, epoch):\n",
    "    global model\n",
    "    model.train()\n",
    "    if torch.cuda.is_available():\n",
    "        model = model.cuda()\n",
    "    tr_loss = 0\n",
    "    for batch_idx, (data, target) in enumerate(train_loader):\n",
    "        batch_size = data.size(0)\n",
    "        labels = target\n",
    "        data, target = Variable(data), Variable(target)\n",
    "        if torch.cuda.is_available():\n",
    "            data = data.cuda()\n",
    "            target = target.cuda()\n",
    "        optimizer.zero_grad()\n",
    "        capsule_loss = LossFunction()\n",
    "        labels = torch.LongTensor(labels)\n",
    "        labels = torch.eye(10).index_select(dim=0, index=labels)\n",
    "        labels = Variable(labels)\n",
    "        optimizer.zero_grad()\n",
    "        classes, reconstructions = model(data, labels)\n",
    "        loss = capsule_loss(data, labels, classes, reconstructions)\n",
    "        loss.backward()\n",
    "        optimizer.step()\n",
    "        tr_loss += loss.item()\n",
    "        pred = classes.data.max(1, keepdim=True)[1]\n",
    "        if (batch_idx + 1)% 500 == 0:\n",
    "            print('Train Epoch: {} [{}/{} ({:.0f}%)]\\tLoss: {:.6f}'.format(\n",
    "                epoch, (batch_idx + 1) * len(data), len(train_loader.dataset),\n",
    "                100. * (batch_idx + 1) / len(train_loader), loss.item()))\n",
    "    train_loss.append(tr_loss / len(train_loader))"
   ]
  },
  {
   "cell_type": "code",
   "execution_count": 174,
   "metadata": {},
   "outputs": [],
   "source": [
    "def evaluate(data_loader):\n",
    "    global model\n",
    "    model.eval()\n",
    "    loss = 0\n",
    "    \n",
    "    for data, target in data_loader:\n",
    "        labels = target\n",
    "        data, target = Variable(data, volatile=True), Variable(target)\n",
    "        if torch.cuda.is_available():\n",
    "            data = data.cuda()\n",
    "            target = target.cuda()\n",
    "        labels = torch.LongTensor(labels)\n",
    "        labels = torch.eye(10).index_select(dim=0, index=labels)\n",
    "        labels = Variable(labels)\n",
    "        classes, reconstructions = model(data)\n",
    "        capsule_loss = LossFunction()\n",
    "        loss += capsule_loss(data, labels, classes, reconstructions).item()\n",
    "        pred = classes.data.max(1, keepdim=True)[1]\n",
    "        \n",
    "    loss /= len(data_loader.dataset)\n",
    "    test_loss.append(loss)\n",
    "    print('\\nAverage Validation loss: {:.6f}\\n'.format(loss))"
   ]
  },
  {
   "cell_type": "code",
   "execution_count": 175,
   "metadata": {},
   "outputs": [
    {
     "name": "stderr",
     "output_type": "stream",
     "text": [
      "/var/folders/54/xgnbdltd7nv2m8wttl50p87m0000gn/T/ipykernel_44219/2184545250.py:8: UserWarning: volatile was removed and now has no effect. Use `with torch.no_grad():` instead.\n",
      "  data, target = Variable(data, volatile=True), Variable(target)\n"
     ]
    },
    {
     "name": "stdout",
     "output_type": "stream",
     "text": [
      "\n",
      "Average Validation loss: 0.026670\n",
      "\n",
      "\n",
      "Average Validation loss: 0.026586\n",
      "\n",
      "\n",
      "Average Validation loss: 0.026583\n",
      "\n",
      "\n",
      "Average Validation loss: 0.026575\n",
      "\n",
      "\n",
      "Average Validation loss: 0.026573\n",
      "\n",
      "\n",
      "Average Validation loss: 0.026576\n",
      "\n",
      "\n",
      "Average Validation loss: 0.026571\n",
      "\n",
      "\n",
      "Average Validation loss: 0.026619\n",
      "\n",
      "\n",
      "Average Validation loss: 0.026570\n",
      "\n",
      "\n",
      "Average Validation loss: 0.026571\n",
      "\n",
      "\n",
      "Average Validation loss: 0.026573\n",
      "\n",
      "\n",
      "Average Validation loss: 0.026573\n",
      "\n",
      "\n",
      "Average Validation loss: 0.026572\n",
      "\n",
      "\n",
      "Average Validation loss: 0.026585\n",
      "\n",
      "\n",
      "Average Validation loss: 0.026587\n",
      "\n"
     ]
    }
   ],
   "source": [
    "model = CapsuleNetwork().to(\"cpu\")\n",
    "optimizer = optim.Adam(model.parameters(), lr=0.01)\n",
    "n_epochs = 15\n",
    "for epoch in range(n_epochs):\n",
    "    train(train_loader, epoch)  #Training the model\n",
    "    evaluate(test_loader)  #evaluating the model"
   ]
  },
  {
   "cell_type": "code",
   "execution_count": 176,
   "metadata": {},
   "outputs": [
    {
     "data": {
      "text/plain": [
       "<matplotlib.legend.Legend at 0x2de2c3cd0>"
      ]
     },
     "execution_count": 176,
     "metadata": {},
     "output_type": "execute_result"
    },
    {
     "data": {
      "image/png": "[encoded data removed]",
      "text/plain": [
       "<Figure size 2000x400 with 2 Axes>"
      ]
     },
     "metadata": {},
     "output_type": "display_data"
    }
   ],
   "source": [
    "plt.style.use('ggplot')\n",
    "fig = plt.figure(figsize=(20,4))\n",
    "ax = fig.add_subplot(1, 2, 1)\n",
    "plt.title(\"Train Loss\")\n",
    "plt.plot(list(np.arange(15) + 1) , train_loss, label='train')\n",
    "plt.xlabel('num_epochs', fontsize=12)\n",
    "plt.ylabel('train_loss', fontsize=12)\n",
    "ax.xaxis.set_major_locator(MaxNLocator(integer=True))\n",
    "plt.legend(loc='best')\n",
    "ax = fig.add_subplot(1, 2, 2)\n",
    "plt.title(\"Validation Loss\")\n",
    "plt.plot(list(np.arange(15) + 1), test_loss, label='test')\n",
    "plt.xlabel('num_epochs', fontsize=12)\n",
    "plt.ylabel('vaidation _loss', fontsize=12)\n",
    "ax.xaxis.set_major_locator(MaxNLocator(integer=True))\n",
    "plt.legend(loc='best')\n"
   ]
  },
  {
   "cell_type": "code",
   "execution_count": 178,
   "metadata": {},
   "outputs": [
    {
     "data": {
      "text/plain": [
       "15"
      ]
     },
     "execution_count": 178,
     "metadata": {},
     "output_type": "execute_result"
    }
   ],
   "source": [
    "n_epochs"
   ]
  },
  {
   "cell_type": "code",
   "execution_count": null,
   "metadata": {},
   "outputs": [],
   "source": []
  }
 ],
 "metadata": {
  "kernelspec": {
   "display_name": "base",
   "language": "python",
   "name": "python3"
  },
  "language_info": {
   "codemirror_mode": {
    "name": "ipython",
    "version": 3
   },
   "file_extension": ".py",
   "mimetype": "text/x-python",
   "name": "python",
   "nbconvert_exporter": "python",
   "pygments_lexer": "ipython3",
   "version": "3.11.7"
  }
 },
 "nbformat": 4,
 "nbformat_minor": 2
}
